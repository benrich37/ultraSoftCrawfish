{
 "cells": [
  {
   "cell_type": "code",
   "execution_count": 1,
   "metadata": {
    "collapsed": true
   },
   "outputs": [],
   "source": [
    "import sys\n",
    "sys.path.append(\"..\")\n",
    "from ultraSoftCrawfish.funcs.pcohp_funcs import get_cheap_pcohp\n",
    "from ultraSoftCrawfish.helpers.ElecData import parse_data\n",
    "calc_path = \"Acetone_calc\"\n",
    "data = parse_data(root=calc_path)\n",
    "atoms = data.get_atoms()\n",
    "O_idcs = [i for i, el in enumerate(atoms.get_chemical_symbols()) if el == \"O\"]\n",
    "C_idcs = [i for i, el in enumerate(atoms.get_chemical_symbols()) if el == \"C\"]\n",
    "C2 = [0]"
   ]
  },
  {
   "cell_type": "code",
   "execution_count": 2,
   "outputs": [
    {
     "ename": "TypeError",
     "evalue": "get_pcohp_pieces() got multiple values for argument 'data'",
     "output_type": "error",
     "traceback": [
      "\u001B[1;31m---------------------------------------------------------------------------\u001B[0m",
      "\u001B[1;31mTypeError\u001B[0m                                 Traceback (most recent call last)",
      "Cell \u001B[1;32mIn[2], line 2\u001B[0m\n\u001B[0;32m      1\u001B[0m \u001B[38;5;28;01mimport\u001B[39;00m \u001B[38;5;21;01mmatplotlib\u001B[39;00m\u001B[38;5;21;01m.\u001B[39;00m\u001B[38;5;21;01mpyplot\u001B[39;00m \u001B[38;5;28;01mas\u001B[39;00m \u001B[38;5;21;01mplt\u001B[39;00m\n\u001B[1;32m----> 2\u001B[0m Erange, ctot \u001B[38;5;241m=\u001B[39m \u001B[43mget_cheap_pcohp\u001B[49m\u001B[43m(\u001B[49m\u001B[43mO_idcs\u001B[49m\u001B[43m,\u001B[49m\u001B[43m \u001B[49m\u001B[43mC2\u001B[49m\u001B[43m,\u001B[49m\u001B[43m \u001B[49m\u001B[43mcalc_path\u001B[49m\u001B[43m,\u001B[49m\u001B[43m \u001B[49m\u001B[43mdata\u001B[49m\u001B[38;5;241;43m=\u001B[39;49m\u001B[43mdata\u001B[49m\u001B[43m)\u001B[49m\n\u001B[0;32m      3\u001B[0m plt\u001B[38;5;241m.\u001B[39mplot(Erange, ctot, label\u001B[38;5;241m=\u001B[39m\u001B[38;5;124m\"\u001B[39m\u001B[38;5;124mC=O pCOHP\u001B[39m\u001B[38;5;124m\"\u001B[39m)\n\u001B[0;32m      4\u001B[0m mu \u001B[38;5;241m=\u001B[39m data\u001B[38;5;241m.\u001B[39mget_mu()\n",
      "File \u001B[1;32m~\\PycharmProjects\\ultraSoftCrawfish\\examples\\..\\ultraSoftCrawfish\\funcs\\pcohp_funcs.py:47\u001B[0m, in \u001B[0;36mget_cheap_pcohp\u001B[1;34m(idcs1, idcs2, path, data, res, sig, orbs1, orbs2, Erange, spin_pol)\u001B[0m\n\u001B[0;32m     43\u001B[0m \u001B[38;5;28;01mif\u001B[39;00m \u001B[38;5;129;01mnot\u001B[39;00m data\u001B[38;5;241m.\u001B[39mcomplex_bandprojs:\n\u001B[0;32m     44\u001B[0m     \u001B[38;5;28;01mraise\u001B[39;00m \u001B[38;5;167;01mValueError\u001B[39;00m(\u001B[38;5;124m\"\u001B[39m\u001B[38;5;124mData was not provided bandProjections in complex form - pCOHP analysis not available.\u001B[39m\u001B[38;5;130;01m\\n\u001B[39;00m\u001B[38;5;124m\"\u001B[39m \u001B[38;5;241m+\u001B[39m \\\n\u001B[0;32m     45\u001B[0m                      \u001B[38;5;124m\"\u001B[39m\u001B[38;5;124mTo generate data suitable for pCOHP analysis, pleased add \u001B[39m\u001B[38;5;124m'\u001B[39m\u001B[38;5;124mband-projection-params yes no\u001B[39m\u001B[38;5;124m'\u001B[39m\u001B[38;5;124m \u001B[39m\u001B[38;5;130;01m\\n\u001B[39;00m\u001B[38;5;124m\"\u001B[39m \u001B[38;5;241m+\u001B[39m\\\n\u001B[0;32m     46\u001B[0m                      \u001B[38;5;124m\"\u001B[39m\u001B[38;5;124mto your JDFTx in file.\u001B[39m\u001B[38;5;124m\"\u001B[39m)\n\u001B[1;32m---> 47\u001B[0m Erange, weights_sabcj, E_sabcj, atoms, wk, occ_sabcj \u001B[38;5;241m=\u001B[39m \u001B[43mget_pcohp_pieces\u001B[49m\u001B[43m(\u001B[49m\u001B[43midcs1\u001B[49m\u001B[43m,\u001B[49m\u001B[43m \u001B[49m\u001B[43midcs2\u001B[49m\u001B[43m,\u001B[49m\u001B[43m \u001B[49m\u001B[43mpath\u001B[49m\u001B[43m,\u001B[49m\u001B[43m \u001B[49m\u001B[43mdata\u001B[49m\u001B[38;5;241;43m=\u001B[39;49m\u001B[43mdata\u001B[49m\u001B[43m,\u001B[49m\u001B[43m \u001B[49m\u001B[43mres\u001B[49m\u001B[38;5;241;43m=\u001B[39;49m\u001B[43mres\u001B[49m\u001B[43m,\u001B[49m\n\u001B[0;32m     48\u001B[0m \u001B[43m                                                                        \u001B[49m\u001B[43morbs1\u001B[49m\u001B[38;5;241;43m=\u001B[39;49m\u001B[43morbs1\u001B[49m\u001B[43m,\u001B[49m\u001B[43m \u001B[49m\u001B[43morbs2\u001B[49m\u001B[38;5;241;43m=\u001B[39;49m\u001B[43morbs2\u001B[49m\u001B[43m,\u001B[49m\u001B[43m \u001B[49m\u001B[43mErange\u001B[49m\u001B[38;5;241;43m=\u001B[39;49m\u001B[43mErange\u001B[49m\u001B[43m)\u001B[49m\n\u001B[0;32m     49\u001B[0m cs \u001B[38;5;241m=\u001B[39m get_cheap_pcohp_helper(Erange, E_sabcj, weights_sabcj, sig)\n\u001B[0;32m     50\u001B[0m pcohp \u001B[38;5;241m=\u001B[39m cs_formatter(cs, spin_pol)\n",
      "\u001B[1;31mTypeError\u001B[0m: get_pcohp_pieces() got multiple values for argument 'data'"
     ]
    }
   ],
   "source": [
    "import matplotlib.pyplot as plt\n",
    "Erange, ctot = get_cheap_pcohp(O_idcs, C2, calc_path, data=data)\n",
    "plt.plot(Erange, ctot, label=\"C=O pCOHP\")\n",
    "mu = data.get_mu()\n",
    "plt.axvline(x=mu, c=\"red\", label=\"$\\mu$\")\n",
    "plt.ylabel(\"pCOHP (Hartree)\")\n",
    "plt.xlabel(\"E (Hartree)\")\n",
    "plt.legend()"
   ],
   "metadata": {
    "collapsed": false
   }
  },
  {
   "cell_type": "code",
   "execution_count": null,
   "outputs": [],
   "source": [],
   "metadata": {
    "collapsed": false
   }
  }
 ],
 "metadata": {
  "kernelspec": {
   "display_name": "Python 3",
   "language": "python",
   "name": "python3"
  },
  "language_info": {
   "codemirror_mode": {
    "name": "ipython",
    "version": 2
   },
   "file_extension": ".py",
   "mimetype": "text/x-python",
   "name": "python",
   "nbconvert_exporter": "python",
   "pygments_lexer": "ipython2",
   "version": "2.7.6"
  }
 },
 "nbformat": 4,
 "nbformat_minor": 0
}
